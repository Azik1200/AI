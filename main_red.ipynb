{
 "cells": [
  {
   "cell_type": "code",
   "execution_count": 1,
   "metadata": {},
   "outputs": [],
   "source": [
    "from ast import Index\n",
    "import pandas as pd\n",
    "import numpy as np\n",
    "import sklearn.tree\n",
    "import sklearn.ensemble\n",
    "import sklearn.metrics\n",
    "import sklearn.inspection\n",
    "import graphviz\n",
    "import plotly.express as px\n",
    "import fastbook\n",
    "from ucimlrepo import fetch_ucirepo\n",
    "from treeinterpreter import treeinterpreter\n"
   ]
  },
  {
   "cell_type": "code",
   "execution_count": 2,
   "metadata": {},
   "outputs": [
    {
     "name": "stdout",
     "output_type": "stream",
     "text": [
      "Total missing values in the DataFrame (white): 0\n",
      "Total missing values in the DataFrame (red): 0\n"
     ]
    }
   ],
   "source": [
    "df_white = pd.read_csv('winequality-white_NO_ALCOHOL.csv', sep=';')\n",
    "df_red = pd.read_csv('winequality-red_NO_ALCOHOL.csv', sep=';')\n",
    "\n",
    "total_missing_values_white = df_white.isna().sum().sum()\n",
    "total_missing_values_red = df_red.isna().sum().sum()\n",
    "\n",
    "print(\"Total missing values in the DataFrame (white):\", total_missing_values_white)\n",
    "print(\"Total missing values in the DataFrame (red):\", total_missing_values_red)"
   ]
  },
  {
   "cell_type": "code",
   "execution_count": 3,
   "metadata": {},
   "outputs": [
    {
     "name": "stdout",
     "output_type": "stream",
     "text": [
      "(1279, 10) (320, 10)\n"
     ]
    },
    {
     "data": {
      "text/html": [
       "<style>#sk-container-id-1 {\n",
       "  /* Definition of color scheme common for light and dark mode */\n",
       "  --sklearn-color-text: black;\n",
       "  --sklearn-color-line: gray;\n",
       "  /* Definition of color scheme for unfitted estimators */\n",
       "  --sklearn-color-unfitted-level-0: #fff5e6;\n",
       "  --sklearn-color-unfitted-level-1: #f6e4d2;\n",
       "  --sklearn-color-unfitted-level-2: #ffe0b3;\n",
       "  --sklearn-color-unfitted-level-3: chocolate;\n",
       "  /* Definition of color scheme for fitted estimators */\n",
       "  --sklearn-color-fitted-level-0: #f0f8ff;\n",
       "  --sklearn-color-fitted-level-1: #d4ebff;\n",
       "  --sklearn-color-fitted-level-2: #b3dbfd;\n",
       "  --sklearn-color-fitted-level-3: cornflowerblue;\n",
       "\n",
       "  /* Specific color for light theme */\n",
       "  --sklearn-color-text-on-default-background: var(--sg-text-color, var(--theme-code-foreground, var(--jp-content-font-color1, black)));\n",
       "  --sklearn-color-background: var(--sg-background-color, var(--theme-background, var(--jp-layout-color0, white)));\n",
       "  --sklearn-color-border-box: var(--sg-text-color, var(--theme-code-foreground, var(--jp-content-font-color1, black)));\n",
       "  --sklearn-color-icon: #696969;\n",
       "\n",
       "  @media (prefers-color-scheme: dark) {\n",
       "    /* Redefinition of color scheme for dark theme */\n",
       "    --sklearn-color-text-on-default-background: var(--sg-text-color, var(--theme-code-foreground, var(--jp-content-font-color1, white)));\n",
       "    --sklearn-color-background: var(--sg-background-color, var(--theme-background, var(--jp-layout-color0, #111)));\n",
       "    --sklearn-color-border-box: var(--sg-text-color, var(--theme-code-foreground, var(--jp-content-font-color1, white)));\n",
       "    --sklearn-color-icon: #878787;\n",
       "  }\n",
       "}\n",
       "\n",
       "#sk-container-id-1 {\n",
       "  color: var(--sklearn-color-text);\n",
       "}\n",
       "\n",
       "#sk-container-id-1 pre {\n",
       "  padding: 0;\n",
       "}\n",
       "\n",
       "#sk-container-id-1 input.sk-hidden--visually {\n",
       "  border: 0;\n",
       "  clip: rect(1px 1px 1px 1px);\n",
       "  clip: rect(1px, 1px, 1px, 1px);\n",
       "  height: 1px;\n",
       "  margin: -1px;\n",
       "  overflow: hidden;\n",
       "  padding: 0;\n",
       "  position: absolute;\n",
       "  width: 1px;\n",
       "}\n",
       "\n",
       "#sk-container-id-1 div.sk-dashed-wrapped {\n",
       "  border: 1px dashed var(--sklearn-color-line);\n",
       "  margin: 0 0.4em 0.5em 0.4em;\n",
       "  box-sizing: border-box;\n",
       "  padding-bottom: 0.4em;\n",
       "  background-color: var(--sklearn-color-background);\n",
       "}\n",
       "\n",
       "#sk-container-id-1 div.sk-container {\n",
       "  /* jupyter's `normalize.less` sets `[hidden] { display: none; }`\n",
       "     but bootstrap.min.css set `[hidden] { display: none !important; }`\n",
       "     so we also need the `!important` here to be able to override the\n",
       "     default hidden behavior on the sphinx rendered scikit-learn.org.\n",
       "     See: https://github.com/scikit-learn/scikit-learn/issues/21755 */\n",
       "  display: inline-block !important;\n",
       "  position: relative;\n",
       "}\n",
       "\n",
       "#sk-container-id-1 div.sk-text-repr-fallback {\n",
       "  display: none;\n",
       "}\n",
       "\n",
       "div.sk-parallel-item,\n",
       "div.sk-serial,\n",
       "div.sk-item {\n",
       "  /* draw centered vertical line to link estimators */\n",
       "  background-image: linear-gradient(var(--sklearn-color-text-on-default-background), var(--sklearn-color-text-on-default-background));\n",
       "  background-size: 2px 100%;\n",
       "  background-repeat: no-repeat;\n",
       "  background-position: center center;\n",
       "}\n",
       "\n",
       "/* Parallel-specific style estimator block */\n",
       "\n",
       "#sk-container-id-1 div.sk-parallel-item::after {\n",
       "  content: \"\";\n",
       "  width: 100%;\n",
       "  border-bottom: 2px solid var(--sklearn-color-text-on-default-background);\n",
       "  flex-grow: 1;\n",
       "}\n",
       "\n",
       "#sk-container-id-1 div.sk-parallel {\n",
       "  display: flex;\n",
       "  align-items: stretch;\n",
       "  justify-content: center;\n",
       "  background-color: var(--sklearn-color-background);\n",
       "  position: relative;\n",
       "}\n",
       "\n",
       "#sk-container-id-1 div.sk-parallel-item {\n",
       "  display: flex;\n",
       "  flex-direction: column;\n",
       "}\n",
       "\n",
       "#sk-container-id-1 div.sk-parallel-item:first-child::after {\n",
       "  align-self: flex-end;\n",
       "  width: 50%;\n",
       "}\n",
       "\n",
       "#sk-container-id-1 div.sk-parallel-item:last-child::after {\n",
       "  align-self: flex-start;\n",
       "  width: 50%;\n",
       "}\n",
       "\n",
       "#sk-container-id-1 div.sk-parallel-item:only-child::after {\n",
       "  width: 0;\n",
       "}\n",
       "\n",
       "/* Serial-specific style estimator block */\n",
       "\n",
       "#sk-container-id-1 div.sk-serial {\n",
       "  display: flex;\n",
       "  flex-direction: column;\n",
       "  align-items: center;\n",
       "  background-color: var(--sklearn-color-background);\n",
       "  padding-right: 1em;\n",
       "  padding-left: 1em;\n",
       "}\n",
       "\n",
       "\n",
       "/* Toggleable style: style used for estimator/Pipeline/ColumnTransformer box that is\n",
       "clickable and can be expanded/collapsed.\n",
       "- Pipeline and ColumnTransformer use this feature and define the default style\n",
       "- Estimators will overwrite some part of the style using the `sk-estimator` class\n",
       "*/\n",
       "\n",
       "/* Pipeline and ColumnTransformer style (default) */\n",
       "\n",
       "#sk-container-id-1 div.sk-toggleable {\n",
       "  /* Default theme specific background. It is overwritten whether we have a\n",
       "  specific estimator or a Pipeline/ColumnTransformer */\n",
       "  background-color: var(--sklearn-color-background);\n",
       "}\n",
       "\n",
       "/* Toggleable label */\n",
       "#sk-container-id-1 label.sk-toggleable__label {\n",
       "  cursor: pointer;\n",
       "  display: block;\n",
       "  width: 100%;\n",
       "  margin-bottom: 0;\n",
       "  padding: 0.5em;\n",
       "  box-sizing: border-box;\n",
       "  text-align: center;\n",
       "}\n",
       "\n",
       "#sk-container-id-1 label.sk-toggleable__label-arrow:before {\n",
       "  /* Arrow on the left of the label */\n",
       "  content: \"▸\";\n",
       "  float: left;\n",
       "  margin-right: 0.25em;\n",
       "  color: var(--sklearn-color-icon);\n",
       "}\n",
       "\n",
       "#sk-container-id-1 label.sk-toggleable__label-arrow:hover:before {\n",
       "  color: var(--sklearn-color-text);\n",
       "}\n",
       "\n",
       "/* Toggleable content - dropdown */\n",
       "\n",
       "#sk-container-id-1 div.sk-toggleable__content {\n",
       "  max-height: 0;\n",
       "  max-width: 0;\n",
       "  overflow: hidden;\n",
       "  text-align: left;\n",
       "  /* unfitted */\n",
       "  background-color: var(--sklearn-color-unfitted-level-0);\n",
       "}\n",
       "\n",
       "#sk-container-id-1 div.sk-toggleable__content.fitted {\n",
       "  /* fitted */\n",
       "  background-color: var(--sklearn-color-fitted-level-0);\n",
       "}\n",
       "\n",
       "#sk-container-id-1 div.sk-toggleable__content pre {\n",
       "  margin: 0.2em;\n",
       "  border-radius: 0.25em;\n",
       "  color: var(--sklearn-color-text);\n",
       "  /* unfitted */\n",
       "  background-color: var(--sklearn-color-unfitted-level-0);\n",
       "}\n",
       "\n",
       "#sk-container-id-1 div.sk-toggleable__content.fitted pre {\n",
       "  /* unfitted */\n",
       "  background-color: var(--sklearn-color-fitted-level-0);\n",
       "}\n",
       "\n",
       "#sk-container-id-1 input.sk-toggleable__control:checked~div.sk-toggleable__content {\n",
       "  /* Expand drop-down */\n",
       "  max-height: 200px;\n",
       "  max-width: 100%;\n",
       "  overflow: auto;\n",
       "}\n",
       "\n",
       "#sk-container-id-1 input.sk-toggleable__control:checked~label.sk-toggleable__label-arrow:before {\n",
       "  content: \"▾\";\n",
       "}\n",
       "\n",
       "/* Pipeline/ColumnTransformer-specific style */\n",
       "\n",
       "#sk-container-id-1 div.sk-label input.sk-toggleable__control:checked~label.sk-toggleable__label {\n",
       "  color: var(--sklearn-color-text);\n",
       "  background-color: var(--sklearn-color-unfitted-level-2);\n",
       "}\n",
       "\n",
       "#sk-container-id-1 div.sk-label.fitted input.sk-toggleable__control:checked~label.sk-toggleable__label {\n",
       "  background-color: var(--sklearn-color-fitted-level-2);\n",
       "}\n",
       "\n",
       "/* Estimator-specific style */\n",
       "\n",
       "/* Colorize estimator box */\n",
       "#sk-container-id-1 div.sk-estimator input.sk-toggleable__control:checked~label.sk-toggleable__label {\n",
       "  /* unfitted */\n",
       "  background-color: var(--sklearn-color-unfitted-level-2);\n",
       "}\n",
       "\n",
       "#sk-container-id-1 div.sk-estimator.fitted input.sk-toggleable__control:checked~label.sk-toggleable__label {\n",
       "  /* fitted */\n",
       "  background-color: var(--sklearn-color-fitted-level-2);\n",
       "}\n",
       "\n",
       "#sk-container-id-1 div.sk-label label.sk-toggleable__label,\n",
       "#sk-container-id-1 div.sk-label label {\n",
       "  /* The background is the default theme color */\n",
       "  color: var(--sklearn-color-text-on-default-background);\n",
       "}\n",
       "\n",
       "/* On hover, darken the color of the background */\n",
       "#sk-container-id-1 div.sk-label:hover label.sk-toggleable__label {\n",
       "  color: var(--sklearn-color-text);\n",
       "  background-color: var(--sklearn-color-unfitted-level-2);\n",
       "}\n",
       "\n",
       "/* Label box, darken color on hover, fitted */\n",
       "#sk-container-id-1 div.sk-label.fitted:hover label.sk-toggleable__label.fitted {\n",
       "  color: var(--sklearn-color-text);\n",
       "  background-color: var(--sklearn-color-fitted-level-2);\n",
       "}\n",
       "\n",
       "/* Estimator label */\n",
       "\n",
       "#sk-container-id-1 div.sk-label label {\n",
       "  font-family: monospace;\n",
       "  font-weight: bold;\n",
       "  display: inline-block;\n",
       "  line-height: 1.2em;\n",
       "}\n",
       "\n",
       "#sk-container-id-1 div.sk-label-container {\n",
       "  text-align: center;\n",
       "}\n",
       "\n",
       "/* Estimator-specific */\n",
       "#sk-container-id-1 div.sk-estimator {\n",
       "  font-family: monospace;\n",
       "  border: 1px dotted var(--sklearn-color-border-box);\n",
       "  border-radius: 0.25em;\n",
       "  box-sizing: border-box;\n",
       "  margin-bottom: 0.5em;\n",
       "  /* unfitted */\n",
       "  background-color: var(--sklearn-color-unfitted-level-0);\n",
       "}\n",
       "\n",
       "#sk-container-id-1 div.sk-estimator.fitted {\n",
       "  /* fitted */\n",
       "  background-color: var(--sklearn-color-fitted-level-0);\n",
       "}\n",
       "\n",
       "/* on hover */\n",
       "#sk-container-id-1 div.sk-estimator:hover {\n",
       "  /* unfitted */\n",
       "  background-color: var(--sklearn-color-unfitted-level-2);\n",
       "}\n",
       "\n",
       "#sk-container-id-1 div.sk-estimator.fitted:hover {\n",
       "  /* fitted */\n",
       "  background-color: var(--sklearn-color-fitted-level-2);\n",
       "}\n",
       "\n",
       "/* Specification for estimator info (e.g. \"i\" and \"?\") */\n",
       "\n",
       "/* Common style for \"i\" and \"?\" */\n",
       "\n",
       ".sk-estimator-doc-link,\n",
       "a:link.sk-estimator-doc-link,\n",
       "a:visited.sk-estimator-doc-link {\n",
       "  float: right;\n",
       "  font-size: smaller;\n",
       "  line-height: 1em;\n",
       "  font-family: monospace;\n",
       "  background-color: var(--sklearn-color-background);\n",
       "  border-radius: 1em;\n",
       "  height: 1em;\n",
       "  width: 1em;\n",
       "  text-decoration: none !important;\n",
       "  margin-left: 1ex;\n",
       "  /* unfitted */\n",
       "  border: var(--sklearn-color-unfitted-level-1) 1pt solid;\n",
       "  color: var(--sklearn-color-unfitted-level-1);\n",
       "}\n",
       "\n",
       ".sk-estimator-doc-link.fitted,\n",
       "a:link.sk-estimator-doc-link.fitted,\n",
       "a:visited.sk-estimator-doc-link.fitted {\n",
       "  /* fitted */\n",
       "  border: var(--sklearn-color-fitted-level-1) 1pt solid;\n",
       "  color: var(--sklearn-color-fitted-level-1);\n",
       "}\n",
       "\n",
       "/* On hover */\n",
       "div.sk-estimator:hover .sk-estimator-doc-link:hover,\n",
       ".sk-estimator-doc-link:hover,\n",
       "div.sk-label-container:hover .sk-estimator-doc-link:hover,\n",
       ".sk-estimator-doc-link:hover {\n",
       "  /* unfitted */\n",
       "  background-color: var(--sklearn-color-unfitted-level-3);\n",
       "  color: var(--sklearn-color-background);\n",
       "  text-decoration: none;\n",
       "}\n",
       "\n",
       "div.sk-estimator.fitted:hover .sk-estimator-doc-link.fitted:hover,\n",
       ".sk-estimator-doc-link.fitted:hover,\n",
       "div.sk-label-container:hover .sk-estimator-doc-link.fitted:hover,\n",
       ".sk-estimator-doc-link.fitted:hover {\n",
       "  /* fitted */\n",
       "  background-color: var(--sklearn-color-fitted-level-3);\n",
       "  color: var(--sklearn-color-background);\n",
       "  text-decoration: none;\n",
       "}\n",
       "\n",
       "/* Span, style for the box shown on hovering the info icon */\n",
       ".sk-estimator-doc-link span {\n",
       "  display: none;\n",
       "  z-index: 9999;\n",
       "  position: relative;\n",
       "  font-weight: normal;\n",
       "  right: .2ex;\n",
       "  padding: .5ex;\n",
       "  margin: .5ex;\n",
       "  width: min-content;\n",
       "  min-width: 20ex;\n",
       "  max-width: 50ex;\n",
       "  color: var(--sklearn-color-text);\n",
       "  box-shadow: 2pt 2pt 4pt #999;\n",
       "  /* unfitted */\n",
       "  background: var(--sklearn-color-unfitted-level-0);\n",
       "  border: .5pt solid var(--sklearn-color-unfitted-level-3);\n",
       "}\n",
       "\n",
       ".sk-estimator-doc-link.fitted span {\n",
       "  /* fitted */\n",
       "  background: var(--sklearn-color-fitted-level-0);\n",
       "  border: var(--sklearn-color-fitted-level-3);\n",
       "}\n",
       "\n",
       ".sk-estimator-doc-link:hover span {\n",
       "  display: block;\n",
       "}\n",
       "\n",
       "/* \"?\"-specific style due to the `<a>` HTML tag */\n",
       "\n",
       "#sk-container-id-1 a.estimator_doc_link {\n",
       "  float: right;\n",
       "  font-size: 1rem;\n",
       "  line-height: 1em;\n",
       "  font-family: monospace;\n",
       "  background-color: var(--sklearn-color-background);\n",
       "  border-radius: 1rem;\n",
       "  height: 1rem;\n",
       "  width: 1rem;\n",
       "  text-decoration: none;\n",
       "  /* unfitted */\n",
       "  color: var(--sklearn-color-unfitted-level-1);\n",
       "  border: var(--sklearn-color-unfitted-level-1) 1pt solid;\n",
       "}\n",
       "\n",
       "#sk-container-id-1 a.estimator_doc_link.fitted {\n",
       "  /* fitted */\n",
       "  border: var(--sklearn-color-fitted-level-1) 1pt solid;\n",
       "  color: var(--sklearn-color-fitted-level-1);\n",
       "}\n",
       "\n",
       "/* On hover */\n",
       "#sk-container-id-1 a.estimator_doc_link:hover {\n",
       "  /* unfitted */\n",
       "  background-color: var(--sklearn-color-unfitted-level-3);\n",
       "  color: var(--sklearn-color-background);\n",
       "  text-decoration: none;\n",
       "}\n",
       "\n",
       "#sk-container-id-1 a.estimator_doc_link.fitted:hover {\n",
       "  /* fitted */\n",
       "  background-color: var(--sklearn-color-fitted-level-3);\n",
       "}\n",
       "</style><div id=\"sk-container-id-1\" class=\"sk-top-container\"><div class=\"sk-text-repr-fallback\"><pre>DecisionTreeRegressor(max_depth=3)</pre><b>In a Jupyter environment, please rerun this cell to show the HTML representation or trust the notebook. <br />On GitHub, the HTML representation is unable to render, please try loading this page with nbviewer.org.</b></div><div class=\"sk-container\" hidden><div class=\"sk-item\"><div class=\"sk-estimator fitted sk-toggleable\"><input class=\"sk-toggleable__control sk-hidden--visually\" id=\"sk-estimator-id-1\" type=\"checkbox\" checked><label for=\"sk-estimator-id-1\" class=\"sk-toggleable__label fitted sk-toggleable__label-arrow fitted\">&nbsp;&nbsp;DecisionTreeRegressor<a class=\"sk-estimator-doc-link fitted\" rel=\"noreferrer\" target=\"_blank\" href=\"https://scikit-learn.org/1.4/modules/generated/sklearn.tree.DecisionTreeRegressor.html\">?<span>Documentation for DecisionTreeRegressor</span></a><span class=\"sk-estimator-doc-link fitted\">i<span>Fitted</span></span></label><div class=\"sk-toggleable__content fitted\"><pre>DecisionTreeRegressor(max_depth=3)</pre></div> </div></div></div></div>"
      ],
      "text/plain": [
       "DecisionTreeRegressor(max_depth=3)"
      ]
     },
     "execution_count": 3,
     "metadata": {},
     "output_type": "execute_result"
    }
   ],
   "source": [
    "train_df, val_df = sklearn.model_selection.train_test_split(df_red, \n",
    "    test_size=0.2)\n",
    "\n",
    "train_X, train_y = train_df.drop(['quality'], axis = 1), train_df.quality\n",
    "val_X, val_y = val_df.drop(['quality'], axis = 1), val_df.quality\n",
    "\n",
    "print(train_X.shape, val_X.shape)\n",
    "\n",
    "model = sklearn.tree.DecisionTreeRegressor(max_depth=3)\n",
    "\n",
    "model.fit(train_X, train_y)"
   ]
  },
  {
   "cell_type": "code",
   "execution_count": 4,
   "metadata": {},
   "outputs": [
    {
     "data": {
      "image/svg+xml": [
       "<?xml version=\"1.0\" encoding=\"UTF-8\" standalone=\"no\"?>\n",
       "<!DOCTYPE svg PUBLIC \"-//W3C//DTD SVG 1.1//EN\"\n",
       " \"http://www.w3.org/Graphics/SVG/1.1/DTD/svg11.dtd\">\n",
       "<!-- Generated by graphviz version 10.0.1 (20240210.2158)\n",
       " -->\n",
       "<!-- Title: Tree Pages: 1 -->\n",
       "<svg width=\"1406pt\" height=\"396pt\"\n",
       " viewBox=\"0.00 0.00 1405.50 395.50\" xmlns=\"http://www.w3.org/2000/svg\" xmlns:xlink=\"http://www.w3.org/1999/xlink\">\n",
       "<g id=\"graph0\" class=\"graph\" transform=\"scale(1 1) rotate(0) translate(4 391.5)\">\n",
       "<title>Tree</title>\n",
       "<polygon fill=\"white\" stroke=\"none\" points=\"-4,4 -4,-391.5 1401.5,-391.5 1401.5,4 -4,4\"/>\n",
       "<!-- 0 -->\n",
       "<g id=\"node1\" class=\"node\">\n",
       "<title>0</title>\n",
       "<polygon fill=\"#f6d6be\" stroke=\"black\" points=\"734.5,-387.5 576,-387.5 576,-313.5 734.5,-313.5 734.5,-387.5\"/>\n",
       "<text text-anchor=\"middle\" x=\"655.25\" y=\"-370.2\" font-family=\"Helvetica,sans-Serif\" font-size=\"14.00\">sulphates &lt;= 0.645</text>\n",
       "<text text-anchor=\"middle\" x=\"655.25\" y=\"-353.7\" font-family=\"Helvetica,sans-Serif\" font-size=\"14.00\">squared_error = 0.651</text>\n",
       "<text text-anchor=\"middle\" x=\"655.25\" y=\"-337.2\" font-family=\"Helvetica,sans-Serif\" font-size=\"14.00\">samples = 1279</text>\n",
       "<text text-anchor=\"middle\" x=\"655.25\" y=\"-320.7\" font-family=\"Helvetica,sans-Serif\" font-size=\"14.00\">value = 5.624</text>\n",
       "</g>\n",
       "<!-- 1 -->\n",
       "<g id=\"node2\" class=\"node\">\n",
       "<title>1</title>\n",
       "<polygon fill=\"#fbece1\" stroke=\"black\" points=\"645.5,-277.5 487,-277.5 487,-203.5 645.5,-203.5 645.5,-277.5\"/>\n",
       "<text text-anchor=\"middle\" x=\"566.25\" y=\"-260.2\" font-family=\"Helvetica,sans-Serif\" font-size=\"14.00\">sulphates &lt;= 0.575</text>\n",
       "<text text-anchor=\"middle\" x=\"566.25\" y=\"-243.7\" font-family=\"Helvetica,sans-Serif\" font-size=\"14.00\">squared_error = 0.508</text>\n",
       "<text text-anchor=\"middle\" x=\"566.25\" y=\"-227.2\" font-family=\"Helvetica,sans-Serif\" font-size=\"14.00\">samples = 737</text>\n",
       "<text text-anchor=\"middle\" x=\"566.25\" y=\"-210.7\" font-family=\"Helvetica,sans-Serif\" font-size=\"14.00\">value = 5.374</text>\n",
       "</g>\n",
       "<!-- 0&#45;&gt;1 -->\n",
       "<g id=\"edge1\" class=\"edge\">\n",
       "<title>0&#45;&gt;1</title>\n",
       "<path fill=\"none\" stroke=\"black\" d=\"M625.37,-313.24C618.32,-304.69 610.73,-295.47 603.41,-286.59\"/>\n",
       "<polygon fill=\"black\" stroke=\"black\" points=\"606.23,-284.51 597.17,-279.02 600.83,-288.96 606.23,-284.51\"/>\n",
       "<text text-anchor=\"middle\" x=\"593.81\" y=\"-297.69\" font-family=\"Helvetica,sans-Serif\" font-size=\"14.00\">True</text>\n",
       "</g>\n",
       "<!-- 8 -->\n",
       "<g id=\"node9\" class=\"node\">\n",
       "<title>8</title>\n",
       "<polygon fill=\"#f0b78e\" stroke=\"black\" points=\"910.5,-277.5 752,-277.5 752,-203.5 910.5,-203.5 910.5,-277.5\"/>\n",
       "<text text-anchor=\"middle\" x=\"831.25\" y=\"-260.2\" font-family=\"Helvetica,sans-Serif\" font-size=\"14.00\">density &lt;= 0.996</text>\n",
       "<text text-anchor=\"middle\" x=\"831.25\" y=\"-243.7\" font-family=\"Helvetica,sans-Serif\" font-size=\"14.00\">squared_error = 0.644</text>\n",
       "<text text-anchor=\"middle\" x=\"831.25\" y=\"-227.2\" font-family=\"Helvetica,sans-Serif\" font-size=\"14.00\">samples = 542</text>\n",
       "<text text-anchor=\"middle\" x=\"831.25\" y=\"-210.7\" font-family=\"Helvetica,sans-Serif\" font-size=\"14.00\">value = 5.963</text>\n",
       "</g>\n",
       "<!-- 0&#45;&gt;8 -->\n",
       "<g id=\"edge8\" class=\"edge\">\n",
       "<title>0&#45;&gt;8</title>\n",
       "<path fill=\"none\" stroke=\"black\" d=\"M714.35,-313.24C729.73,-303.8 746.43,-293.55 762.28,-283.82\"/>\n",
       "<polygon fill=\"black\" stroke=\"black\" points=\"764.03,-286.86 770.72,-278.64 760.37,-280.89 764.03,-286.86\"/>\n",
       "<text text-anchor=\"middle\" x=\"766.19\" y=\"-297.11\" font-family=\"Helvetica,sans-Serif\" font-size=\"14.00\">False</text>\n",
       "</g>\n",
       "<!-- 2 -->\n",
       "<g id=\"node3\" class=\"node\">\n",
       "<title>2</title>\n",
       "<polygon fill=\"#fef9f5\" stroke=\"black\" points=\"338.12,-167.5 174.38,-167.5 174.38,-93.5 338.12,-93.5 338.12,-167.5\"/>\n",
       "<text text-anchor=\"middle\" x=\"256.25\" y=\"-150.2\" font-family=\"Helvetica,sans-Serif\" font-size=\"14.00\">volatile acidity &lt;= 0.365</text>\n",
       "<text text-anchor=\"middle\" x=\"256.25\" y=\"-133.7\" font-family=\"Helvetica,sans-Serif\" font-size=\"14.00\">squared_error = 0.489</text>\n",
       "<text text-anchor=\"middle\" x=\"256.25\" y=\"-117.2\" font-family=\"Helvetica,sans-Serif\" font-size=\"14.00\">samples = 424</text>\n",
       "<text text-anchor=\"middle\" x=\"256.25\" y=\"-100.7\" font-family=\"Helvetica,sans-Serif\" font-size=\"14.00\">value = 5.231</text>\n",
       "</g>\n",
       "<!-- 1&#45;&gt;2 -->\n",
       "<g id=\"edge2\" class=\"edge\">\n",
       "<title>1&#45;&gt;2</title>\n",
       "<path fill=\"none\" stroke=\"black\" d=\"M486.82,-211.83C444.81,-197.19 392.99,-179.14 349.13,-163.86\"/>\n",
       "<polygon fill=\"black\" stroke=\"black\" points=\"350.47,-160.62 339.88,-160.63 348.17,-167.23 350.47,-160.62\"/>\n",
       "</g>\n",
       "<!-- 5 -->\n",
       "<g id=\"node6\" class=\"node\">\n",
       "<title>5</title>\n",
       "<polygon fill=\"#f7dac6\" stroke=\"black\" points=\"645.5,-167.5 487,-167.5 487,-93.5 645.5,-93.5 645.5,-167.5\"/>\n",
       "<text text-anchor=\"middle\" x=\"566.25\" y=\"-150.2\" font-family=\"Helvetica,sans-Serif\" font-size=\"14.00\">density &lt;= 0.997</text>\n",
       "<text text-anchor=\"middle\" x=\"566.25\" y=\"-133.7\" font-family=\"Helvetica,sans-Serif\" font-size=\"14.00\">squared_error = 0.469</text>\n",
       "<text text-anchor=\"middle\" x=\"566.25\" y=\"-117.2\" font-family=\"Helvetica,sans-Serif\" font-size=\"14.00\">samples = 313</text>\n",
       "<text text-anchor=\"middle\" x=\"566.25\" y=\"-100.7\" font-family=\"Helvetica,sans-Serif\" font-size=\"14.00\">value = 5.569</text>\n",
       "</g>\n",
       "<!-- 1&#45;&gt;5 -->\n",
       "<g id=\"edge5\" class=\"edge\">\n",
       "<title>1&#45;&gt;5</title>\n",
       "<path fill=\"none\" stroke=\"black\" d=\"M566.25,-203.24C566.25,-195.49 566.25,-187.2 566.25,-179.1\"/>\n",
       "<polygon fill=\"black\" stroke=\"black\" points=\"569.75,-179.36 566.25,-169.36 562.75,-179.36 569.75,-179.36\"/>\n",
       "</g>\n",
       "<!-- 3 -->\n",
       "<g id=\"node4\" class=\"node\">\n",
       "<title>3</title>\n",
       "<polygon fill=\"#f3c4a2\" stroke=\"black\" points=\"158.5,-57.5 0,-57.5 0,0 158.5,0 158.5,-57.5\"/>\n",
       "<text text-anchor=\"middle\" x=\"79.25\" y=\"-40.2\" font-family=\"Helvetica,sans-Serif\" font-size=\"14.00\">squared_error = 0.591</text>\n",
       "<text text-anchor=\"middle\" x=\"79.25\" y=\"-23.7\" font-family=\"Helvetica,sans-Serif\" font-size=\"14.00\">samples = 45</text>\n",
       "<text text-anchor=\"middle\" x=\"79.25\" y=\"-7.2\" font-family=\"Helvetica,sans-Serif\" font-size=\"14.00\">value = 5.822</text>\n",
       "</g>\n",
       "<!-- 2&#45;&gt;3 -->\n",
       "<g id=\"edge3\" class=\"edge\">\n",
       "<title>2&#45;&gt;3</title>\n",
       "<path fill=\"none\" stroke=\"black\" d=\"M191.6,-93.06C174.43,-83.39 155.96,-72.98 139.06,-63.46\"/>\n",
       "<polygon fill=\"black\" stroke=\"black\" points=\"141.06,-60.57 130.63,-58.71 137.63,-66.67 141.06,-60.57\"/>\n",
       "</g>\n",
       "<!-- 4 -->\n",
       "<g id=\"node5\" class=\"node\">\n",
       "<title>4</title>\n",
       "<polygon fill=\"#ffffff\" stroke=\"black\" points=\"335.5,-57.5 177,-57.5 177,0 335.5,0 335.5,-57.5\"/>\n",
       "<text text-anchor=\"middle\" x=\"256.25\" y=\"-40.2\" font-family=\"Helvetica,sans-Serif\" font-size=\"14.00\">squared_error = 0.431</text>\n",
       "<text text-anchor=\"middle\" x=\"256.25\" y=\"-23.7\" font-family=\"Helvetica,sans-Serif\" font-size=\"14.00\">samples = 379</text>\n",
       "<text text-anchor=\"middle\" x=\"256.25\" y=\"-7.2\" font-family=\"Helvetica,sans-Serif\" font-size=\"14.00\">value = 5.161</text>\n",
       "</g>\n",
       "<!-- 2&#45;&gt;4 -->\n",
       "<g id=\"edge4\" class=\"edge\">\n",
       "<title>2&#45;&gt;4</title>\n",
       "<path fill=\"none\" stroke=\"black\" d=\"M256.25,-93.21C256.25,-85.35 256.25,-77 256.25,-69.03\"/>\n",
       "<polygon fill=\"black\" stroke=\"black\" points=\"259.75,-69.24 256.25,-59.24 252.75,-69.24 259.75,-69.24\"/>\n",
       "</g>\n",
       "<!-- 6 -->\n",
       "<g id=\"node7\" class=\"node\">\n",
       "<title>6</title>\n",
       "<polygon fill=\"#f4caab\" stroke=\"black\" points=\"512.5,-57.5 354,-57.5 354,0 512.5,0 512.5,-57.5\"/>\n",
       "<text text-anchor=\"middle\" x=\"433.25\" y=\"-40.2\" font-family=\"Helvetica,sans-Serif\" font-size=\"14.00\">squared_error = 0.508</text>\n",
       "<text text-anchor=\"middle\" x=\"433.25\" y=\"-23.7\" font-family=\"Helvetica,sans-Serif\" font-size=\"14.00\">samples = 148</text>\n",
       "<text text-anchor=\"middle\" x=\"433.25\" y=\"-7.2\" font-family=\"Helvetica,sans-Serif\" font-size=\"14.00\">value = 5.757</text>\n",
       "</g>\n",
       "<!-- 5&#45;&gt;6 -->\n",
       "<g id=\"edge6\" class=\"edge\">\n",
       "<title>5&#45;&gt;6</title>\n",
       "<path fill=\"none\" stroke=\"black\" d=\"M517.86,-93.21C505.43,-83.88 492.09,-73.88 479.75,-64.63\"/>\n",
       "<polygon fill=\"black\" stroke=\"black\" points=\"481.86,-61.84 471.76,-58.64 477.66,-67.44 481.86,-61.84\"/>\n",
       "</g>\n",
       "<!-- 7 -->\n",
       "<g id=\"node8\" class=\"node\">\n",
       "<title>7</title>\n",
       "<polygon fill=\"#fbeadd\" stroke=\"black\" points=\"689.5,-57.5 531,-57.5 531,0 689.5,0 689.5,-57.5\"/>\n",
       "<text text-anchor=\"middle\" x=\"610.25\" y=\"-40.2\" font-family=\"Helvetica,sans-Serif\" font-size=\"14.00\">squared_error = 0.373</text>\n",
       "<text text-anchor=\"middle\" x=\"610.25\" y=\"-23.7\" font-family=\"Helvetica,sans-Serif\" font-size=\"14.00\">samples = 165</text>\n",
       "<text text-anchor=\"middle\" x=\"610.25\" y=\"-7.2\" font-family=\"Helvetica,sans-Serif\" font-size=\"14.00\">value = 5.4</text>\n",
       "</g>\n",
       "<!-- 5&#45;&gt;7 -->\n",
       "<g id=\"edge7\" class=\"edge\">\n",
       "<title>5&#45;&gt;7</title>\n",
       "<path fill=\"none\" stroke=\"black\" d=\"M582.26,-93.21C585.85,-85.07 589.67,-76.42 593.29,-68.2\"/>\n",
       "<polygon fill=\"black\" stroke=\"black\" points=\"596.46,-69.67 597.3,-59.11 590.06,-66.85 596.46,-69.67\"/>\n",
       "</g>\n",
       "<!-- 9 -->\n",
       "<g id=\"node10\" class=\"node\">\n",
       "<title>9</title>\n",
       "<polygon fill=\"#e99355\" stroke=\"black\" points=\"913.12,-167.5 749.38,-167.5 749.38,-93.5 913.12,-93.5 913.12,-167.5\"/>\n",
       "<text text-anchor=\"middle\" x=\"831.25\" y=\"-150.2\" font-family=\"Helvetica,sans-Serif\" font-size=\"14.00\">volatile acidity &lt;= 0.425</text>\n",
       "<text text-anchor=\"middle\" x=\"831.25\" y=\"-133.7\" font-family=\"Helvetica,sans-Serif\" font-size=\"14.00\">squared_error = 0.456</text>\n",
       "<text text-anchor=\"middle\" x=\"831.25\" y=\"-117.2\" font-family=\"Helvetica,sans-Serif\" font-size=\"14.00\">samples = 161</text>\n",
       "<text text-anchor=\"middle\" x=\"831.25\" y=\"-100.7\" font-family=\"Helvetica,sans-Serif\" font-size=\"14.00\">value = 6.366</text>\n",
       "</g>\n",
       "<!-- 8&#45;&gt;9 -->\n",
       "<g id=\"edge9\" class=\"edge\">\n",
       "<title>8&#45;&gt;9</title>\n",
       "<path fill=\"none\" stroke=\"black\" d=\"M831.25,-203.24C831.25,-195.49 831.25,-187.2 831.25,-179.1\"/>\n",
       "<polygon fill=\"black\" stroke=\"black\" points=\"834.75,-179.36 831.25,-169.36 827.75,-179.36 834.75,-179.36\"/>\n",
       "</g>\n",
       "<!-- 12 -->\n",
       "<g id=\"node13\" class=\"node\">\n",
       "<title>12</title>\n",
       "<polygon fill=\"#f3c6a6\" stroke=\"black\" points=\"1220.5,-167.5 1062,-167.5 1062,-93.5 1220.5,-93.5 1220.5,-167.5\"/>\n",
       "<text text-anchor=\"middle\" x=\"1141.25\" y=\"-150.2\" font-family=\"Helvetica,sans-Serif\" font-size=\"14.00\">fixed acidity &lt;= 10.05</text>\n",
       "<text text-anchor=\"middle\" x=\"1141.25\" y=\"-133.7\" font-family=\"Helvetica,sans-Serif\" font-size=\"14.00\">squared_error = 0.626</text>\n",
       "<text text-anchor=\"middle\" x=\"1141.25\" y=\"-117.2\" font-family=\"Helvetica,sans-Serif\" font-size=\"14.00\">samples = 381</text>\n",
       "<text text-anchor=\"middle\" x=\"1141.25\" y=\"-100.7\" font-family=\"Helvetica,sans-Serif\" font-size=\"14.00\">value = 5.793</text>\n",
       "</g>\n",
       "<!-- 8&#45;&gt;12 -->\n",
       "<g id=\"edge12\" class=\"edge\">\n",
       "<title>8&#45;&gt;12</title>\n",
       "<path fill=\"none\" stroke=\"black\" d=\"M910.68,-211.83C953.52,-196.9 1006.56,-178.42 1050.96,-162.96\"/>\n",
       "<polygon fill=\"black\" stroke=\"black\" points=\"1052.04,-166.29 1060.33,-159.69 1049.73,-159.68 1052.04,-166.29\"/>\n",
       "</g>\n",
       "<!-- 10 -->\n",
       "<g id=\"node11\" class=\"node\">\n",
       "<title>10</title>\n",
       "<polygon fill=\"#e58139\" stroke=\"black\" points=\"866.5,-57.5 708,-57.5 708,0 866.5,0 866.5,-57.5\"/>\n",
       "<text text-anchor=\"middle\" x=\"787.25\" y=\"-40.2\" font-family=\"Helvetica,sans-Serif\" font-size=\"14.00\">squared_error = 0.423</text>\n",
       "<text text-anchor=\"middle\" x=\"787.25\" y=\"-23.7\" font-family=\"Helvetica,sans-Serif\" font-size=\"14.00\">samples = 90</text>\n",
       "<text text-anchor=\"middle\" x=\"787.25\" y=\"-7.2\" font-family=\"Helvetica,sans-Serif\" font-size=\"14.00\">value = 6.567</text>\n",
       "</g>\n",
       "<!-- 9&#45;&gt;10 -->\n",
       "<g id=\"edge10\" class=\"edge\">\n",
       "<title>9&#45;&gt;10</title>\n",
       "<path fill=\"none\" stroke=\"black\" d=\"M815.24,-93.21C811.65,-85.07 807.83,-76.42 804.21,-68.2\"/>\n",
       "<polygon fill=\"black\" stroke=\"black\" points=\"807.44,-66.85 800.2,-59.11 801.04,-69.67 807.44,-66.85\"/>\n",
       "</g>\n",
       "<!-- 11 -->\n",
       "<g id=\"node12\" class=\"node\">\n",
       "<title>11</title>\n",
       "<polygon fill=\"#edaa79\" stroke=\"black\" points=\"1043.5,-57.5 885,-57.5 885,0 1043.5,0 1043.5,-57.5\"/>\n",
       "<text text-anchor=\"middle\" x=\"964.25\" y=\"-40.2\" font-family=\"Helvetica,sans-Serif\" font-size=\"14.00\">squared_error = 0.382</text>\n",
       "<text text-anchor=\"middle\" x=\"964.25\" y=\"-23.7\" font-family=\"Helvetica,sans-Serif\" font-size=\"14.00\">samples = 71</text>\n",
       "<text text-anchor=\"middle\" x=\"964.25\" y=\"-7.2\" font-family=\"Helvetica,sans-Serif\" font-size=\"14.00\">value = 6.113</text>\n",
       "</g>\n",
       "<!-- 9&#45;&gt;11 -->\n",
       "<g id=\"edge11\" class=\"edge\">\n",
       "<title>9&#45;&gt;11</title>\n",
       "<path fill=\"none\" stroke=\"black\" d=\"M879.64,-93.21C892.07,-83.88 905.41,-73.88 917.75,-64.63\"/>\n",
       "<polygon fill=\"black\" stroke=\"black\" points=\"919.84,-67.44 925.74,-58.64 915.64,-61.84 919.84,-67.44\"/>\n",
       "</g>\n",
       "<!-- 13 -->\n",
       "<g id=\"node14\" class=\"node\">\n",
       "<title>13</title>\n",
       "<polygon fill=\"#f7d7c1\" stroke=\"black\" points=\"1220.5,-57.5 1062,-57.5 1062,0 1220.5,0 1220.5,-57.5\"/>\n",
       "<text text-anchor=\"middle\" x=\"1141.25\" y=\"-40.2\" font-family=\"Helvetica,sans-Serif\" font-size=\"14.00\">squared_error = 0.529</text>\n",
       "<text text-anchor=\"middle\" x=\"1141.25\" y=\"-23.7\" font-family=\"Helvetica,sans-Serif\" font-size=\"14.00\">samples = 249</text>\n",
       "<text text-anchor=\"middle\" x=\"1141.25\" y=\"-7.2\" font-family=\"Helvetica,sans-Serif\" font-size=\"14.00\">value = 5.602</text>\n",
       "</g>\n",
       "<!-- 12&#45;&gt;13 -->\n",
       "<g id=\"edge13\" class=\"edge\">\n",
       "<title>12&#45;&gt;13</title>\n",
       "<path fill=\"none\" stroke=\"black\" d=\"M1141.25,-93.21C1141.25,-85.35 1141.25,-77 1141.25,-69.03\"/>\n",
       "<polygon fill=\"black\" stroke=\"black\" points=\"1144.75,-69.24 1141.25,-59.24 1137.75,-69.24 1144.75,-69.24\"/>\n",
       "</g>\n",
       "<!-- 14 -->\n",
       "<g id=\"node15\" class=\"node\">\n",
       "<title>14</title>\n",
       "<polygon fill=\"#eda673\" stroke=\"black\" points=\"1397.5,-57.5 1239,-57.5 1239,0 1397.5,0 1397.5,-57.5\"/>\n",
       "<text text-anchor=\"middle\" x=\"1318.25\" y=\"-40.2\" font-family=\"Helvetica,sans-Serif\" font-size=\"14.00\">squared_error = 0.613</text>\n",
       "<text text-anchor=\"middle\" x=\"1318.25\" y=\"-23.7\" font-family=\"Helvetica,sans-Serif\" font-size=\"14.00\">samples = 132</text>\n",
       "<text text-anchor=\"middle\" x=\"1318.25\" y=\"-7.2\" font-family=\"Helvetica,sans-Serif\" font-size=\"14.00\">value = 6.152</text>\n",
       "</g>\n",
       "<!-- 12&#45;&gt;14 -->\n",
       "<g id=\"edge14\" class=\"edge\">\n",
       "<title>12&#45;&gt;14</title>\n",
       "<path fill=\"none\" stroke=\"black\" d=\"M1205.9,-93.06C1223.07,-83.39 1241.54,-72.98 1258.44,-63.46\"/>\n",
       "<polygon fill=\"black\" stroke=\"black\" points=\"1259.87,-66.67 1266.87,-58.71 1256.44,-60.57 1259.87,-66.67\"/>\n",
       "</g>\n",
       "</g>\n",
       "</svg>\n"
      ],
      "text/plain": [
       "<graphviz.sources.Source at 0x26b15f12230>"
      ]
     },
     "execution_count": 4,
     "metadata": {},
     "output_type": "execute_result"
    }
   ],
   "source": [
    "graphviz_path = 'C:\\\\Program Files\\\\Graphviz\\\\bin'  \n",
    "\n",
    "graph = graphviz.Graph(engine='dot', directory=graphviz_path)\n",
    "\n",
    "dot_data = sklearn.tree.export_graphviz(model, out_file=None,\n",
    "                                       feature_names = train_X.columns,\n",
    "                                       filled = True)\n",
    "\n",
    "graph = graphviz.Source(dot_data)\n",
    " \n",
    "png_bytes = graph.pipe(format='png')\n",
    "with open('decision_tree.png','wb') as f:\n",
    "    f.write(png_bytes)\n",
    "\n",
    "graph"
   ]
  },
  {
   "cell_type": "code",
   "execution_count": 5,
   "metadata": {},
   "outputs": [
    {
     "data": {
      "text/html": [
       "<div>\n",
       "<style scoped>\n",
       "    .dataframe tbody tr th:only-of-type {\n",
       "        vertical-align: middle;\n",
       "    }\n",
       "\n",
       "    .dataframe tbody tr th {\n",
       "        vertical-align: top;\n",
       "    }\n",
       "\n",
       "    .dataframe thead th {\n",
       "        text-align: right;\n",
       "    }\n",
       "</style>\n",
       "<table border=\"1\" class=\"dataframe\">\n",
       "  <thead>\n",
       "    <tr style=\"text-align: right;\">\n",
       "      <th></th>\n",
       "      <th>param</th>\n",
       "      <th>threshold</th>\n",
       "      <th>mse</th>\n",
       "    </tr>\n",
       "  </thead>\n",
       "  <tbody>\n",
       "    <tr>\n",
       "      <th>25</th>\n",
       "      <td>sulphates</td>\n",
       "      <td>0.645</td>\n",
       "      <td>0.565991</td>\n",
       "    </tr>\n",
       "    <tr>\n",
       "      <th>23</th>\n",
       "      <td>sulphates</td>\n",
       "      <td>0.625</td>\n",
       "      <td>0.567248</td>\n",
       "    </tr>\n",
       "    <tr>\n",
       "      <th>24</th>\n",
       "      <td>sulphates</td>\n",
       "      <td>0.635</td>\n",
       "      <td>0.567833</td>\n",
       "    </tr>\n",
       "    <tr>\n",
       "      <th>19</th>\n",
       "      <td>sulphates</td>\n",
       "      <td>0.585</td>\n",
       "      <td>0.568131</td>\n",
       "    </tr>\n",
       "    <tr>\n",
       "      <th>22</th>\n",
       "      <td>sulphates</td>\n",
       "      <td>0.615</td>\n",
       "      <td>0.568936</td>\n",
       "    </tr>\n",
       "  </tbody>\n",
       "</table>\n",
       "</div>"
      ],
      "text/plain": [
       "        param  threshold       mse\n",
       "25  sulphates      0.645  0.565991\n",
       "23  sulphates      0.625  0.567248\n",
       "24  sulphates      0.635  0.567833\n",
       "19  sulphates      0.585  0.568131\n",
       "22  sulphates      0.615  0.568936"
      ]
     },
     "execution_count": 5,
     "metadata": {},
     "output_type": "execute_result"
    }
   ],
   "source": [
    "def get_binary_split_for_param(param, X, y):\n",
    "    uniq_vals = list(sorted(X[param].unique()))\n",
    "    \n",
    "    tmp_data = []\n",
    "    \n",
    "    for i in range(1, len(uniq_vals)):\n",
    "        threshold = 0.5 * (uniq_vals[i-1] + uniq_vals[i])\n",
    "         \n",
    "        # split dataset by threshold\n",
    "        split_left = y[X[param] <= threshold]\n",
    "        split_right = y[X[param] > threshold]\n",
    "        \n",
    "        # calculate predicted values for each split\n",
    "        pred_left = split_left.mean()\n",
    "        pred_right = split_right.mean()\n",
    "\n",
    "        num_left = split_left.shape[0]\n",
    "        num_right = split_right.shape[0]\n",
    "\n",
    "        mse_left = ((split_left - pred_left) * (split_left - pred_left)).mean()\n",
    "        mse_right = ((split_right - pred_right) * (split_right - pred_right)).mean()\n",
    "        mse = mse_left * num_left / (num_left + num_right) \\\n",
    "            + mse_right * num_right / (num_left + num_right)\n",
    "\n",
    "        tmp_data.append(\n",
    "            {\n",
    "                'param': param,\n",
    "                'threshold': threshold,\n",
    "                'mse': mse\n",
    "            }\n",
    "        )\n",
    "            \n",
    "    return pd.DataFrame(tmp_data).sort_values('mse')\n",
    "\n",
    "get_binary_split_for_param('sulphates', train_X, train_y).head(5)\n"
   ]
  },
  {
   "cell_type": "code",
   "execution_count": 6,
   "metadata": {},
   "outputs": [
    {
     "data": {
      "text/html": [
       "<div>\n",
       "<style scoped>\n",
       "    .dataframe tbody tr th:only-of-type {\n",
       "        vertical-align: middle;\n",
       "    }\n",
       "\n",
       "    .dataframe tbody tr th {\n",
       "        vertical-align: top;\n",
       "    }\n",
       "\n",
       "    .dataframe thead th {\n",
       "        text-align: right;\n",
       "    }\n",
       "</style>\n",
       "<table border=\"1\" class=\"dataframe\">\n",
       "  <thead>\n",
       "    <tr style=\"text-align: right;\">\n",
       "      <th></th>\n",
       "      <th>param</th>\n",
       "      <th>threshold</th>\n",
       "      <th>mse</th>\n",
       "    </tr>\n",
       "  </thead>\n",
       "  <tbody>\n",
       "    <tr>\n",
       "      <th>25</th>\n",
       "      <td>sulphates</td>\n",
       "      <td>0.645</td>\n",
       "      <td>0.565991</td>\n",
       "    </tr>\n",
       "    <tr>\n",
       "      <th>23</th>\n",
       "      <td>sulphates</td>\n",
       "      <td>0.625</td>\n",
       "      <td>0.567248</td>\n",
       "    </tr>\n",
       "    <tr>\n",
       "      <th>24</th>\n",
       "      <td>sulphates</td>\n",
       "      <td>0.635</td>\n",
       "      <td>0.567833</td>\n",
       "    </tr>\n",
       "    <tr>\n",
       "      <th>19</th>\n",
       "      <td>sulphates</td>\n",
       "      <td>0.585</td>\n",
       "      <td>0.568131</td>\n",
       "    </tr>\n",
       "    <tr>\n",
       "      <th>22</th>\n",
       "      <td>sulphates</td>\n",
       "      <td>0.615</td>\n",
       "      <td>0.568936</td>\n",
       "    </tr>\n",
       "  </tbody>\n",
       "</table>\n",
       "</div>"
      ],
      "text/plain": [
       "        param  threshold       mse\n",
       "25  sulphates      0.645  0.565991\n",
       "23  sulphates      0.625  0.567248\n",
       "24  sulphates      0.635  0.567833\n",
       "19  sulphates      0.585  0.568131\n",
       "22  sulphates      0.615  0.568936"
      ]
     },
     "execution_count": 6,
     "metadata": {},
     "output_type": "execute_result"
    }
   ],
   "source": [
    "def get_binary_split(X, y):\n",
    "    tmp_dfs = []\n",
    "    for param in X.columns:\n",
    "        tmp_dfs.append(get_binary_split_for_param(param, X, y))\n",
    "        \n",
    "    return pd.concat(tmp_dfs).sort_values('mse')\n",
    "\n",
    "get_binary_split(train_X, train_y).head(5)"
   ]
  },
  {
   "cell_type": "code",
   "execution_count": 7,
   "metadata": {},
   "outputs": [
    {
     "name": "stdout",
     "output_type": "stream",
     "text": [
      "0.6192552991082827\n"
     ]
    }
   ],
   "source": [
    "model = sklearn.tree.DecisionTreeRegressor(min_samples_leaf = 420)\n",
    "model.fit(train_X, train_y)\n",
    "\n",
    "print(sklearn.metrics.mean_absolute_error(model.predict(val_X), val_y))"
   ]
  },
  {
   "cell_type": "code",
   "execution_count": 8,
   "metadata": {},
   "outputs": [
    {
     "name": "stdout",
     "output_type": "stream",
     "text": [
      "0.5618934821788896\n"
     ]
    }
   ],
   "source": [
    "model = sklearn.ensemble.RandomForestRegressor(100, min_samples_leaf=100)\n",
    "model.fit(train_X, train_y)\n",
    "\n",
    "print(sklearn.metrics.mean_absolute_error(model.predict(val_X), val_y))"
   ]
  },
  {
   "cell_type": "code",
   "execution_count": 9,
   "metadata": {},
   "outputs": [
    {
     "name": "stdout",
     "output_type": "stream",
     "text": [
      "0.5615811837487603\n",
      "0.5310446248042444\n",
      "0.5451107524650866\n"
     ]
    }
   ],
   "source": [
    "model = sklearn.ensemble.RandomForestRegressor(100, min_samples_leaf=100, \n",
    "     oob_score=True)\n",
    "\n",
    "model.fit(train_X, train_y)\n",
    "\n",
    "print(sklearn.metrics.mean_absolute_error(model.predict(val_X), val_y))\n",
    "\n",
    "print(sklearn.metrics.mean_absolute_error(model.predict(train_X), train_y))\n",
    "\n",
    "print(sklearn.metrics.mean_absolute_error(model.oob_prediction_, train_y))"
   ]
  },
  {
   "cell_type": "code",
   "execution_count": 10,
   "metadata": {},
   "outputs": [],
   "source": [
    "def plot_feature_importance(model, names, threshold = None):\n",
    "    feature_importance_df = pd.DataFrame.from_dict({'feature_importance': model.feature_importances_,\n",
    "                                                    'feature': names})\\\n",
    "            .set_index('feature').sort_values('feature_importance', ascending = False)\n",
    "\n",
    "    if threshold is not None:\n",
    "        feature_importance_df = feature_importance_df[feature_importance_df.feature_importance > threshold]\n",
    "\n",
    "    fig = px.bar(\n",
    "        feature_importance_df,\n",
    "        text_auto = '.2f',\n",
    "        labels = {'value': 'feature importance'},\n",
    "        title = 'Feature importances'\n",
    "    )\n",
    "\n",
    "    fig.update_layout(showlegend = False)\n",
    "    fig.show()\n",
    "    return feature_importance_df"
   ]
  },
  {
   "cell_type": "code",
   "execution_count": 11,
   "metadata": {},
   "outputs": [
    {
     "data": {
      "application/vnd.plotly.v1+json": {
       "config": {
        "plotlyServerURL": "https://plot.ly"
       },
       "data": [
        {
         "alignmentgroup": "True",
         "hovertemplate": "variable=feature_importance<br>feature=%{x}<br>feature importance=%{y}<extra></extra>",
         "legendgroup": "feature_importance",
         "marker": {
          "color": "#636efa",
          "pattern": {
           "shape": ""
          }
         },
         "name": "feature_importance",
         "offsetgroup": "feature_importance",
         "orientation": "v",
         "showlegend": true,
         "textposition": "auto",
         "texttemplate": "%{y:.2f}",
         "type": "bar",
         "x": [
          "sulphates",
          "volatile acidity",
          "density",
          "total sulfur dioxide",
          "fixed acidity",
          "residual sugar",
          "chlorides",
          "free sulfur dioxide",
          "citric acid",
          "pH"
         ],
         "xaxis": "x",
         "y": [
          0.5253705430420285,
          0.24029319045698627,
          0.12366227617751979,
          0.07249375052054033,
          0.019774847651459163,
          0.007863010956740685,
          0.00754625629538259,
          0.0014929049200807325,
          0.0010501952745617734,
          0.00045302470470022846
         ],
         "yaxis": "y"
        }
       ],
       "layout": {
        "barmode": "relative",
        "legend": {
         "title": {
          "text": "variable"
         },
         "tracegroupgap": 0
        },
        "showlegend": false,
        "template": {
         "data": {
          "bar": [
           {
            "error_x": {
             "color": "#2a3f5f"
            },
            "error_y": {
             "color": "#2a3f5f"
            },
            "marker": {
             "line": {
              "color": "#E5ECF6",
              "width": 0.5
             },
             "pattern": {
              "fillmode": "overlay",
              "size": 10,
              "solidity": 0.2
             }
            },
            "type": "bar"
           }
          ],
          "barpolar": [
           {
            "marker": {
             "line": {
              "color": "#E5ECF6",
              "width": 0.5
             },
             "pattern": {
              "fillmode": "overlay",
              "size": 10,
              "solidity": 0.2
             }
            },
            "type": "barpolar"
           }
          ],
          "carpet": [
           {
            "aaxis": {
             "endlinecolor": "#2a3f5f",
             "gridcolor": "white",
             "linecolor": "white",
             "minorgridcolor": "white",
             "startlinecolor": "#2a3f5f"
            },
            "baxis": {
             "endlinecolor": "#2a3f5f",
             "gridcolor": "white",
             "linecolor": "white",
             "minorgridcolor": "white",
             "startlinecolor": "#2a3f5f"
            },
            "type": "carpet"
           }
          ],
          "choropleth": [
           {
            "colorbar": {
             "outlinewidth": 0,
             "ticks": ""
            },
            "type": "choropleth"
           }
          ],
          "contour": [
           {
            "colorbar": {
             "outlinewidth": 0,
             "ticks": ""
            },
            "colorscale": [
             [
              0,
              "#0d0887"
             ],
             [
              0.1111111111111111,
              "#46039f"
             ],
             [
              0.2222222222222222,
              "#7201a8"
             ],
             [
              0.3333333333333333,
              "#9c179e"
             ],
             [
              0.4444444444444444,
              "#bd3786"
             ],
             [
              0.5555555555555556,
              "#d8576b"
             ],
             [
              0.6666666666666666,
              "#ed7953"
             ],
             [
              0.7777777777777778,
              "#fb9f3a"
             ],
             [
              0.8888888888888888,
              "#fdca26"
             ],
             [
              1,
              "#f0f921"
             ]
            ],
            "type": "contour"
           }
          ],
          "contourcarpet": [
           {
            "colorbar": {
             "outlinewidth": 0,
             "ticks": ""
            },
            "type": "contourcarpet"
           }
          ],
          "heatmap": [
           {
            "colorbar": {
             "outlinewidth": 0,
             "ticks": ""
            },
            "colorscale": [
             [
              0,
              "#0d0887"
             ],
             [
              0.1111111111111111,
              "#46039f"
             ],
             [
              0.2222222222222222,
              "#7201a8"
             ],
             [
              0.3333333333333333,
              "#9c179e"
             ],
             [
              0.4444444444444444,
              "#bd3786"
             ],
             [
              0.5555555555555556,
              "#d8576b"
             ],
             [
              0.6666666666666666,
              "#ed7953"
             ],
             [
              0.7777777777777778,
              "#fb9f3a"
             ],
             [
              0.8888888888888888,
              "#fdca26"
             ],
             [
              1,
              "#f0f921"
             ]
            ],
            "type": "heatmap"
           }
          ],
          "heatmapgl": [
           {
            "colorbar": {
             "outlinewidth": 0,
             "ticks": ""
            },
            "colorscale": [
             [
              0,
              "#0d0887"
             ],
             [
              0.1111111111111111,
              "#46039f"
             ],
             [
              0.2222222222222222,
              "#7201a8"
             ],
             [
              0.3333333333333333,
              "#9c179e"
             ],
             [
              0.4444444444444444,
              "#bd3786"
             ],
             [
              0.5555555555555556,
              "#d8576b"
             ],
             [
              0.6666666666666666,
              "#ed7953"
             ],
             [
              0.7777777777777778,
              "#fb9f3a"
             ],
             [
              0.8888888888888888,
              "#fdca26"
             ],
             [
              1,
              "#f0f921"
             ]
            ],
            "type": "heatmapgl"
           }
          ],
          "histogram": [
           {
            "marker": {
             "pattern": {
              "fillmode": "overlay",
              "size": 10,
              "solidity": 0.2
             }
            },
            "type": "histogram"
           }
          ],
          "histogram2d": [
           {
            "colorbar": {
             "outlinewidth": 0,
             "ticks": ""
            },
            "colorscale": [
             [
              0,
              "#0d0887"
             ],
             [
              0.1111111111111111,
              "#46039f"
             ],
             [
              0.2222222222222222,
              "#7201a8"
             ],
             [
              0.3333333333333333,
              "#9c179e"
             ],
             [
              0.4444444444444444,
              "#bd3786"
             ],
             [
              0.5555555555555556,
              "#d8576b"
             ],
             [
              0.6666666666666666,
              "#ed7953"
             ],
             [
              0.7777777777777778,
              "#fb9f3a"
             ],
             [
              0.8888888888888888,
              "#fdca26"
             ],
             [
              1,
              "#f0f921"
             ]
            ],
            "type": "histogram2d"
           }
          ],
          "histogram2dcontour": [
           {
            "colorbar": {
             "outlinewidth": 0,
             "ticks": ""
            },
            "colorscale": [
             [
              0,
              "#0d0887"
             ],
             [
              0.1111111111111111,
              "#46039f"
             ],
             [
              0.2222222222222222,
              "#7201a8"
             ],
             [
              0.3333333333333333,
              "#9c179e"
             ],
             [
              0.4444444444444444,
              "#bd3786"
             ],
             [
              0.5555555555555556,
              "#d8576b"
             ],
             [
              0.6666666666666666,
              "#ed7953"
             ],
             [
              0.7777777777777778,
              "#fb9f3a"
             ],
             [
              0.8888888888888888,
              "#fdca26"
             ],
             [
              1,
              "#f0f921"
             ]
            ],
            "type": "histogram2dcontour"
           }
          ],
          "mesh3d": [
           {
            "colorbar": {
             "outlinewidth": 0,
             "ticks": ""
            },
            "type": "mesh3d"
           }
          ],
          "parcoords": [
           {
            "line": {
             "colorbar": {
              "outlinewidth": 0,
              "ticks": ""
             }
            },
            "type": "parcoords"
           }
          ],
          "pie": [
           {
            "automargin": true,
            "type": "pie"
           }
          ],
          "scatter": [
           {
            "fillpattern": {
             "fillmode": "overlay",
             "size": 10,
             "solidity": 0.2
            },
            "type": "scatter"
           }
          ],
          "scatter3d": [
           {
            "line": {
             "colorbar": {
              "outlinewidth": 0,
              "ticks": ""
             }
            },
            "marker": {
             "colorbar": {
              "outlinewidth": 0,
              "ticks": ""
             }
            },
            "type": "scatter3d"
           }
          ],
          "scattercarpet": [
           {
            "marker": {
             "colorbar": {
              "outlinewidth": 0,
              "ticks": ""
             }
            },
            "type": "scattercarpet"
           }
          ],
          "scattergeo": [
           {
            "marker": {
             "colorbar": {
              "outlinewidth": 0,
              "ticks": ""
             }
            },
            "type": "scattergeo"
           }
          ],
          "scattergl": [
           {
            "marker": {
             "colorbar": {
              "outlinewidth": 0,
              "ticks": ""
             }
            },
            "type": "scattergl"
           }
          ],
          "scattermapbox": [
           {
            "marker": {
             "colorbar": {
              "outlinewidth": 0,
              "ticks": ""
             }
            },
            "type": "scattermapbox"
           }
          ],
          "scatterpolar": [
           {
            "marker": {
             "colorbar": {
              "outlinewidth": 0,
              "ticks": ""
             }
            },
            "type": "scatterpolar"
           }
          ],
          "scatterpolargl": [
           {
            "marker": {
             "colorbar": {
              "outlinewidth": 0,
              "ticks": ""
             }
            },
            "type": "scatterpolargl"
           }
          ],
          "scatterternary": [
           {
            "marker": {
             "colorbar": {
              "outlinewidth": 0,
              "ticks": ""
             }
            },
            "type": "scatterternary"
           }
          ],
          "surface": [
           {
            "colorbar": {
             "outlinewidth": 0,
             "ticks": ""
            },
            "colorscale": [
             [
              0,
              "#0d0887"
             ],
             [
              0.1111111111111111,
              "#46039f"
             ],
             [
              0.2222222222222222,
              "#7201a8"
             ],
             [
              0.3333333333333333,
              "#9c179e"
             ],
             [
              0.4444444444444444,
              "#bd3786"
             ],
             [
              0.5555555555555556,
              "#d8576b"
             ],
             [
              0.6666666666666666,
              "#ed7953"
             ],
             [
              0.7777777777777778,
              "#fb9f3a"
             ],
             [
              0.8888888888888888,
              "#fdca26"
             ],
             [
              1,
              "#f0f921"
             ]
            ],
            "type": "surface"
           }
          ],
          "table": [
           {
            "cells": {
             "fill": {
              "color": "#EBF0F8"
             },
             "line": {
              "color": "white"
             }
            },
            "header": {
             "fill": {
              "color": "#C8D4E3"
             },
             "line": {
              "color": "white"
             }
            },
            "type": "table"
           }
          ]
         },
         "layout": {
          "annotationdefaults": {
           "arrowcolor": "#2a3f5f",
           "arrowhead": 0,
           "arrowwidth": 1
          },
          "autotypenumbers": "strict",
          "coloraxis": {
           "colorbar": {
            "outlinewidth": 0,
            "ticks": ""
           }
          },
          "colorscale": {
           "diverging": [
            [
             0,
             "#8e0152"
            ],
            [
             0.1,
             "#c51b7d"
            ],
            [
             0.2,
             "#de77ae"
            ],
            [
             0.3,
             "#f1b6da"
            ],
            [
             0.4,
             "#fde0ef"
            ],
            [
             0.5,
             "#f7f7f7"
            ],
            [
             0.6,
             "#e6f5d0"
            ],
            [
             0.7,
             "#b8e186"
            ],
            [
             0.8,
             "#7fbc41"
            ],
            [
             0.9,
             "#4d9221"
            ],
            [
             1,
             "#276419"
            ]
           ],
           "sequential": [
            [
             0,
             "#0d0887"
            ],
            [
             0.1111111111111111,
             "#46039f"
            ],
            [
             0.2222222222222222,
             "#7201a8"
            ],
            [
             0.3333333333333333,
             "#9c179e"
            ],
            [
             0.4444444444444444,
             "#bd3786"
            ],
            [
             0.5555555555555556,
             "#d8576b"
            ],
            [
             0.6666666666666666,
             "#ed7953"
            ],
            [
             0.7777777777777778,
             "#fb9f3a"
            ],
            [
             0.8888888888888888,
             "#fdca26"
            ],
            [
             1,
             "#f0f921"
            ]
           ],
           "sequentialminus": [
            [
             0,
             "#0d0887"
            ],
            [
             0.1111111111111111,
             "#46039f"
            ],
            [
             0.2222222222222222,
             "#7201a8"
            ],
            [
             0.3333333333333333,
             "#9c179e"
            ],
            [
             0.4444444444444444,
             "#bd3786"
            ],
            [
             0.5555555555555556,
             "#d8576b"
            ],
            [
             0.6666666666666666,
             "#ed7953"
            ],
            [
             0.7777777777777778,
             "#fb9f3a"
            ],
            [
             0.8888888888888888,
             "#fdca26"
            ],
            [
             1,
             "#f0f921"
            ]
           ]
          },
          "colorway": [
           "#636efa",
           "#EF553B",
           "#00cc96",
           "#ab63fa",
           "#FFA15A",
           "#19d3f3",
           "#FF6692",
           "#B6E880",
           "#FF97FF",
           "#FECB52"
          ],
          "font": {
           "color": "#2a3f5f"
          },
          "geo": {
           "bgcolor": "white",
           "lakecolor": "white",
           "landcolor": "#E5ECF6",
           "showlakes": true,
           "showland": true,
           "subunitcolor": "white"
          },
          "hoverlabel": {
           "align": "left"
          },
          "hovermode": "closest",
          "mapbox": {
           "style": "light"
          },
          "paper_bgcolor": "white",
          "plot_bgcolor": "#E5ECF6",
          "polar": {
           "angularaxis": {
            "gridcolor": "white",
            "linecolor": "white",
            "ticks": ""
           },
           "bgcolor": "#E5ECF6",
           "radialaxis": {
            "gridcolor": "white",
            "linecolor": "white",
            "ticks": ""
           }
          },
          "scene": {
           "xaxis": {
            "backgroundcolor": "#E5ECF6",
            "gridcolor": "white",
            "gridwidth": 2,
            "linecolor": "white",
            "showbackground": true,
            "ticks": "",
            "zerolinecolor": "white"
           },
           "yaxis": {
            "backgroundcolor": "#E5ECF6",
            "gridcolor": "white",
            "gridwidth": 2,
            "linecolor": "white",
            "showbackground": true,
            "ticks": "",
            "zerolinecolor": "white"
           },
           "zaxis": {
            "backgroundcolor": "#E5ECF6",
            "gridcolor": "white",
            "gridwidth": 2,
            "linecolor": "white",
            "showbackground": true,
            "ticks": "",
            "zerolinecolor": "white"
           }
          },
          "shapedefaults": {
           "line": {
            "color": "#2a3f5f"
           }
          },
          "ternary": {
           "aaxis": {
            "gridcolor": "white",
            "linecolor": "white",
            "ticks": ""
           },
           "baxis": {
            "gridcolor": "white",
            "linecolor": "white",
            "ticks": ""
           },
           "bgcolor": "#E5ECF6",
           "caxis": {
            "gridcolor": "white",
            "linecolor": "white",
            "ticks": ""
           }
          },
          "title": {
           "x": 0.05
          },
          "xaxis": {
           "automargin": true,
           "gridcolor": "white",
           "linecolor": "white",
           "ticks": "",
           "title": {
            "standoff": 15
           },
           "zerolinecolor": "white",
           "zerolinewidth": 2
          },
          "yaxis": {
           "automargin": true,
           "gridcolor": "white",
           "linecolor": "white",
           "ticks": "",
           "title": {
            "standoff": 15
           },
           "zerolinecolor": "white",
           "zerolinewidth": 2
          }
         }
        },
        "title": {
         "text": "Feature importances"
        },
        "xaxis": {
         "anchor": "y",
         "domain": [
          0,
          1
         ],
         "title": {
          "text": "feature"
         }
        },
        "yaxis": {
         "anchor": "x",
         "domain": [
          0,
          1
         ],
         "title": {
          "text": "feature importance"
         }
        }
       }
      }
     },
     "metadata": {},
     "output_type": "display_data"
    }
   ],
   "source": [
    "feature_importance_df = plot_feature_importance(model, train_X.columns)\n",
    "\n",
    "val_df['predictions_mean'] = np.stack([dt.predict(val_X.values) \n",
    "  for dt in model.estimators_]).mean(axis = 0)\n",
    "val_df['predictions_std'] = np.stack([dt.predict(val_X.values) \n",
    "  for dt in model.estimators_]).std(axis = 0)\n",
    "\n"
   ]
  },
  {
   "cell_type": "code",
   "execution_count": 12,
   "metadata": {},
   "outputs": [
    {
     "data": {
      "image/png": "[encoded data removed]",
      "text/plain": [
       "<Figure size 640x480 with 1 Axes>"
      ]
     },
     "metadata": {},
     "output_type": "display_data"
    }
   ],
   "source": [
    "ax = val_df.predictions_std.hist(bins = 10)\n",
    "ax.set_title('Distribution of predictions std')\n",
    "\n",
    "row = val_X.iloc[[7]]\n",
    "prediction, bias, contributions = treeinterpreter.predict(model, row.values)\n",
    "\n"
   ]
  },
  {
   "cell_type": "code",
   "execution_count": 13,
   "metadata": {},
   "outputs": [
    {
     "data": {
      "image/png": "[encoded data removed]",
      "text/plain": [
       "<Figure size 1000x600 with 1 Axes>"
      ]
     },
     "metadata": {},
     "output_type": "display_data"
    }
   ],
   "source": [
    "low_impact_features = feature_importance_df[feature_importance_df.feature_importance <= 0.01].index.values\n",
    "\n",
    "train_X_imp = train_X.drop(low_impact_features, axis = 1)\n",
    "val_X_imp = val_X.drop(low_impact_features, axis = 1)\n",
    "\n",
    "model_imp = sklearn.ensemble.RandomForestRegressor(100, min_samples_leaf=100)\n",
    "model_imp.fit(train_X, train_y)\n",
    "\n",
    "fastbook.cluster_columns(train_X_imp)"
   ]
  },
  {
   "cell_type": "code",
   "execution_count": 16,
   "metadata": {},
   "outputs": [
    {
     "data": {
      "text/plain": [
       "0.5985618660487396"
      ]
     },
     "execution_count": 16,
     "metadata": {},
     "output_type": "execute_result"
    }
   ],
   "source": [
    "non_uniq_features = ['fixed acidity', 'volatile acidity', \n",
    "  'total sulfur dioxide', 'density']\n",
    "\n",
    "train_X_imp_uniq = train_X_imp.drop(non_uniq_features, axis = 1)\n",
    "val_X_imp_uniq = val_X_imp.drop(non_uniq_features, axis = 1)\n",
    "\n",
    "model_imp_uniq = sklearn.ensemble.RandomForestRegressor(100, \n",
    "  min_samples_leaf=100)\n",
    "model_imp_uniq.fit(train_X_imp_uniq, train_y)\n",
    "sklearn.metrics.mean_absolute_error(model_imp_uniq.predict(val_X_imp_uniq), \n",
    "  val_y)"
   ]
  }
 ],
 "metadata": {
  "kernelspec": {
   "display_name": "Python 3",
   "language": "python",
   "name": "python3"
  },
  "language_info": {
   "codemirror_mode": {
    "name": "ipython",
    "version": 3
   },
   "file_extension": ".py",
   "mimetype": "text/x-python",
   "name": "python",
   "nbconvert_exporter": "python",
   "pygments_lexer": "ipython3",
   "version": "3.10.7"
  }
 },
 "nbformat": 4,
 "nbformat_minor": 2
}
